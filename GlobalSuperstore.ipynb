{
 "cells": [
  {
   "cell_type": "markdown",
   "metadata": {},
   "source": [
    "## Project 1 : Global Superstore "
   ]
  },
  {
   "cell_type": "code",
   "execution_count": 1,
   "metadata": {},
   "outputs": [],
   "source": [
    "# Dependencies and Setup\n",
    "import matplotlib.pyplot as plt\n",
    "import pandas as pd\n",
    "import scipy.stats as st\n",
    "import random\n",
    "import numpy as np\n",
    "import csv"
   ]
  },
  {
   "cell_type": "code",
   "execution_count": 2,
   "metadata": {},
   "outputs": [
    {
     "data": {
      "text/html": [
       "<div>\n",
       "<style scoped>\n",
       "    .dataframe tbody tr th:only-of-type {\n",
       "        vertical-align: middle;\n",
       "    }\n",
       "\n",
       "    .dataframe tbody tr th {\n",
       "        vertical-align: top;\n",
       "    }\n",
       "\n",
       "    .dataframe thead th {\n",
       "        text-align: right;\n",
       "    }\n",
       "</style>\n",
       "<table border=\"1\" class=\"dataframe\">\n",
       "  <thead>\n",
       "    <tr style=\"text-align: right;\">\n",
       "      <th></th>\n",
       "      <th>Row ID</th>\n",
       "      <th>Order ID</th>\n",
       "      <th>Order Date</th>\n",
       "      <th>Ship Date</th>\n",
       "      <th>Ship Mode</th>\n",
       "      <th>Customer ID</th>\n",
       "      <th>Customer Name</th>\n",
       "      <th>Segment</th>\n",
       "      <th>City</th>\n",
       "      <th>State</th>\n",
       "      <th>...</th>\n",
       "      <th>Product ID</th>\n",
       "      <th>Category</th>\n",
       "      <th>Sub-Category</th>\n",
       "      <th>Product Name</th>\n",
       "      <th>Sales</th>\n",
       "      <th>Quantity</th>\n",
       "      <th>Discount</th>\n",
       "      <th>Profit</th>\n",
       "      <th>Shipping Cost</th>\n",
       "      <th>Order Priority</th>\n",
       "    </tr>\n",
       "  </thead>\n",
       "  <tbody>\n",
       "    <tr>\n",
       "      <th>0</th>\n",
       "      <td>32298</td>\n",
       "      <td>CA-2012-124891</td>\n",
       "      <td>31-07-2012</td>\n",
       "      <td>31-07-2012</td>\n",
       "      <td>Same Day</td>\n",
       "      <td>RH-19495</td>\n",
       "      <td>Rick Hansen</td>\n",
       "      <td>Consumer</td>\n",
       "      <td>New York City</td>\n",
       "      <td>New York</td>\n",
       "      <td>...</td>\n",
       "      <td>TEC-AC-10003033</td>\n",
       "      <td>Technology</td>\n",
       "      <td>Accessories</td>\n",
       "      <td>Plantronics CS510 - Over-the-Head monaural Wir...</td>\n",
       "      <td>2309.650</td>\n",
       "      <td>7</td>\n",
       "      <td>0.0</td>\n",
       "      <td>762.1845</td>\n",
       "      <td>933.57</td>\n",
       "      <td>Critical</td>\n",
       "    </tr>\n",
       "    <tr>\n",
       "      <th>1</th>\n",
       "      <td>26341</td>\n",
       "      <td>IN-2013-77878</td>\n",
       "      <td>5/2/2013</td>\n",
       "      <td>7/2/2013</td>\n",
       "      <td>Second Class</td>\n",
       "      <td>JR-16210</td>\n",
       "      <td>Justin Ritter</td>\n",
       "      <td>Corporate</td>\n",
       "      <td>Wollongong</td>\n",
       "      <td>New South Wales</td>\n",
       "      <td>...</td>\n",
       "      <td>FUR-CH-10003950</td>\n",
       "      <td>Furniture</td>\n",
       "      <td>Chairs</td>\n",
       "      <td>Novimex Executive Leather Armchair, Black</td>\n",
       "      <td>3709.395</td>\n",
       "      <td>9</td>\n",
       "      <td>0.1</td>\n",
       "      <td>-288.7650</td>\n",
       "      <td>923.63</td>\n",
       "      <td>Critical</td>\n",
       "    </tr>\n",
       "    <tr>\n",
       "      <th>2</th>\n",
       "      <td>25330</td>\n",
       "      <td>IN-2013-71249</td>\n",
       "      <td>17-10-2013</td>\n",
       "      <td>18-10-2013</td>\n",
       "      <td>First Class</td>\n",
       "      <td>CR-12730</td>\n",
       "      <td>Craig Reiter</td>\n",
       "      <td>Consumer</td>\n",
       "      <td>Brisbane</td>\n",
       "      <td>Queensland</td>\n",
       "      <td>...</td>\n",
       "      <td>TEC-PH-10004664</td>\n",
       "      <td>Technology</td>\n",
       "      <td>Phones</td>\n",
       "      <td>Nokia Smart Phone, with Caller ID</td>\n",
       "      <td>5175.171</td>\n",
       "      <td>9</td>\n",
       "      <td>0.1</td>\n",
       "      <td>919.9710</td>\n",
       "      <td>915.49</td>\n",
       "      <td>Medium</td>\n",
       "    </tr>\n",
       "    <tr>\n",
       "      <th>3</th>\n",
       "      <td>13524</td>\n",
       "      <td>ES-2013-1579342</td>\n",
       "      <td>28-01-2013</td>\n",
       "      <td>30-01-2013</td>\n",
       "      <td>First Class</td>\n",
       "      <td>KM-16375</td>\n",
       "      <td>Katherine Murray</td>\n",
       "      <td>Home Office</td>\n",
       "      <td>Berlin</td>\n",
       "      <td>Berlin</td>\n",
       "      <td>...</td>\n",
       "      <td>TEC-PH-10004583</td>\n",
       "      <td>Technology</td>\n",
       "      <td>Phones</td>\n",
       "      <td>Motorola Smart Phone, Cordless</td>\n",
       "      <td>2892.510</td>\n",
       "      <td>5</td>\n",
       "      <td>0.1</td>\n",
       "      <td>-96.5400</td>\n",
       "      <td>910.16</td>\n",
       "      <td>Medium</td>\n",
       "    </tr>\n",
       "    <tr>\n",
       "      <th>4</th>\n",
       "      <td>47221</td>\n",
       "      <td>SG-2013-4320</td>\n",
       "      <td>5/11/2013</td>\n",
       "      <td>6/11/2013</td>\n",
       "      <td>Same Day</td>\n",
       "      <td>RH-9495</td>\n",
       "      <td>Rick Hansen</td>\n",
       "      <td>Consumer</td>\n",
       "      <td>Dakar</td>\n",
       "      <td>Dakar</td>\n",
       "      <td>...</td>\n",
       "      <td>TEC-SHA-10000501</td>\n",
       "      <td>Technology</td>\n",
       "      <td>Copiers</td>\n",
       "      <td>Sharp Wireless Fax, High-Speed</td>\n",
       "      <td>2832.960</td>\n",
       "      <td>8</td>\n",
       "      <td>0.0</td>\n",
       "      <td>311.5200</td>\n",
       "      <td>903.04</td>\n",
       "      <td>Critical</td>\n",
       "    </tr>\n",
       "  </tbody>\n",
       "</table>\n",
       "<p>5 rows × 24 columns</p>\n",
       "</div>"
      ],
      "text/plain": [
       "   Row ID         Order ID  Order Date   Ship Date     Ship Mode Customer ID  \\\n",
       "0   32298   CA-2012-124891  31-07-2012  31-07-2012      Same Day    RH-19495   \n",
       "1   26341    IN-2013-77878    5/2/2013    7/2/2013  Second Class    JR-16210   \n",
       "2   25330    IN-2013-71249  17-10-2013  18-10-2013   First Class    CR-12730   \n",
       "3   13524  ES-2013-1579342  28-01-2013  30-01-2013   First Class    KM-16375   \n",
       "4   47221     SG-2013-4320   5/11/2013   6/11/2013      Same Day     RH-9495   \n",
       "\n",
       "      Customer Name      Segment           City            State  ...  \\\n",
       "0       Rick Hansen     Consumer  New York City         New York  ...   \n",
       "1     Justin Ritter    Corporate     Wollongong  New South Wales  ...   \n",
       "2      Craig Reiter     Consumer       Brisbane       Queensland  ...   \n",
       "3  Katherine Murray  Home Office         Berlin           Berlin  ...   \n",
       "4       Rick Hansen     Consumer          Dakar            Dakar  ...   \n",
       "\n",
       "         Product ID    Category Sub-Category  \\\n",
       "0   TEC-AC-10003033  Technology  Accessories   \n",
       "1   FUR-CH-10003950   Furniture       Chairs   \n",
       "2   TEC-PH-10004664  Technology       Phones   \n",
       "3   TEC-PH-10004583  Technology       Phones   \n",
       "4  TEC-SHA-10000501  Technology      Copiers   \n",
       "\n",
       "                                        Product Name     Sales Quantity  \\\n",
       "0  Plantronics CS510 - Over-the-Head monaural Wir...  2309.650        7   \n",
       "1          Novimex Executive Leather Armchair, Black  3709.395        9   \n",
       "2                  Nokia Smart Phone, with Caller ID  5175.171        9   \n",
       "3                     Motorola Smart Phone, Cordless  2892.510        5   \n",
       "4                     Sharp Wireless Fax, High-Speed  2832.960        8   \n",
       "\n",
       "  Discount    Profit  Shipping Cost  Order Priority  \n",
       "0      0.0  762.1845         933.57        Critical  \n",
       "1      0.1 -288.7650         923.63        Critical  \n",
       "2      0.1  919.9710         915.49          Medium  \n",
       "3      0.1  -96.5400         910.16          Medium  \n",
       "4      0.0  311.5200         903.04        Critical  \n",
       "\n",
       "[5 rows x 24 columns]"
      ]
     },
     "execution_count": 2,
     "metadata": {},
     "output_type": "execute_result"
    }
   ],
   "source": [
    "# Read the data from the dataset\n",
    "sstore_df = pd.read_csv('C:/Users/vijet/git/Project_GlobalSuperStore/Global_Superstore_new.csv') \n",
    "# sstore_df = pd.read_csv('SSClean.csv')\n",
    "sstore_df.head()"
   ]
  },
  {
   "cell_type": "markdown",
   "metadata": {},
   "source": [
    "# 1. Categorical analysis using Chi-Square\n",
    "### Null Hypothesis: No statistical significance exists in the distribution of the orders placed by the three segments: corporate, consumers and home office. "
   ]
  },
  {
   "cell_type": "code",
   "execution_count": 3,
   "metadata": {},
   "outputs": [
    {
     "data": {
      "text/plain": [
       "Consumer       26518\n",
       "Corporate      15429\n",
       "Home Office     9343\n",
       "Name: Segment, dtype: int64"
      ]
     },
     "execution_count": 3,
     "metadata": {},
     "output_type": "execute_result"
    }
   ],
   "source": [
    "#Observed data for the 3 segments from the dataset.\n",
    "observed_segment_data = sstore_df['Segment'].value_counts()\n",
    "observed_segment_data"
   ]
  },
  {
   "cell_type": "code",
   "execution_count": 4,
   "metadata": {},
   "outputs": [
    {
     "data": {
      "text/html": [
       "<div>\n",
       "<style scoped>\n",
       "    .dataframe tbody tr th:only-of-type {\n",
       "        vertical-align: middle;\n",
       "    }\n",
       "\n",
       "    .dataframe tbody tr th {\n",
       "        vertical-align: top;\n",
       "    }\n",
       "\n",
       "    .dataframe thead th {\n",
       "        text-align: right;\n",
       "    }\n",
       "</style>\n",
       "<table border=\"1\" class=\"dataframe\">\n",
       "  <thead>\n",
       "    <tr style=\"text-align: right;\">\n",
       "      <th></th>\n",
       "      <th>Segment</th>\n",
       "    </tr>\n",
       "  </thead>\n",
       "  <tbody>\n",
       "    <tr>\n",
       "      <th>Consumer</th>\n",
       "      <td>26518</td>\n",
       "    </tr>\n",
       "    <tr>\n",
       "      <th>Corporate</th>\n",
       "      <td>15429</td>\n",
       "    </tr>\n",
       "    <tr>\n",
       "      <th>Home Office</th>\n",
       "      <td>9343</td>\n",
       "    </tr>\n",
       "  </tbody>\n",
       "</table>\n",
       "</div>"
      ],
      "text/plain": [
       "             Segment\n",
       "Consumer       26518\n",
       "Corporate      15429\n",
       "Home Office     9343"
      ]
     },
     "execution_count": 4,
     "metadata": {},
     "output_type": "execute_result"
    }
   ],
   "source": [
    "#Creating a dataframe for the observed data.\n",
    "chi_square_df = pd.DataFrame([observed_segment_data]).T\n",
    "chi_square_df"
   ]
  },
  {
   "cell_type": "code",
   "execution_count": 5,
   "metadata": {},
   "outputs": [
    {
     "data": {
      "text/html": [
       "<div>\n",
       "<style scoped>\n",
       "    .dataframe tbody tr th:only-of-type {\n",
       "        vertical-align: middle;\n",
       "    }\n",
       "\n",
       "    .dataframe tbody tr th {\n",
       "        vertical-align: top;\n",
       "    }\n",
       "\n",
       "    .dataframe thead th {\n",
       "        text-align: right;\n",
       "    }\n",
       "</style>\n",
       "<table border=\"1\" class=\"dataframe\">\n",
       "  <thead>\n",
       "    <tr style=\"text-align: right;\">\n",
       "      <th></th>\n",
       "      <th>Segment</th>\n",
       "      <th>1</th>\n",
       "    </tr>\n",
       "  </thead>\n",
       "  <tbody>\n",
       "    <tr>\n",
       "      <th>Consumer</th>\n",
       "      <td>26518</td>\n",
       "      <td>25000</td>\n",
       "    </tr>\n",
       "    <tr>\n",
       "      <th>Corporate</th>\n",
       "      <td>15429</td>\n",
       "      <td>25000</td>\n",
       "    </tr>\n",
       "    <tr>\n",
       "      <th>Home Office</th>\n",
       "      <td>9343</td>\n",
       "      <td>25000</td>\n",
       "    </tr>\n",
       "  </tbody>\n",
       "</table>\n",
       "</div>"
      ],
      "text/plain": [
       "             Segment      1\n",
       "Consumer       26518  25000\n",
       "Corporate      15429  25000\n",
       "Home Office     9343  25000"
      ]
     },
     "execution_count": 5,
     "metadata": {},
     "output_type": "execute_result"
    }
   ],
   "source": [
    "#Adding a column whose default values are the expected values. \n",
    "chi_square_df[1] = 25000\n",
    "chi_square_df"
   ]
  },
  {
   "cell_type": "code",
   "execution_count": 6,
   "metadata": {},
   "outputs": [
    {
     "data": {
      "text/html": [
       "<div>\n",
       "<style scoped>\n",
       "    .dataframe tbody tr th:only-of-type {\n",
       "        vertical-align: middle;\n",
       "    }\n",
       "\n",
       "    .dataframe tbody tr th {\n",
       "        vertical-align: top;\n",
       "    }\n",
       "\n",
       "    .dataframe thead th {\n",
       "        text-align: right;\n",
       "    }\n",
       "</style>\n",
       "<table border=\"1\" class=\"dataframe\">\n",
       "  <thead>\n",
       "    <tr style=\"text-align: right;\">\n",
       "      <th></th>\n",
       "      <th>Observed</th>\n",
       "      <th>Expected</th>\n",
       "    </tr>\n",
       "  </thead>\n",
       "  <tbody>\n",
       "    <tr>\n",
       "      <th>Consumer</th>\n",
       "      <td>26518</td>\n",
       "      <td>25000</td>\n",
       "    </tr>\n",
       "    <tr>\n",
       "      <th>Corporate</th>\n",
       "      <td>15429</td>\n",
       "      <td>25000</td>\n",
       "    </tr>\n",
       "    <tr>\n",
       "      <th>Home Office</th>\n",
       "      <td>9343</td>\n",
       "      <td>25000</td>\n",
       "    </tr>\n",
       "  </tbody>\n",
       "</table>\n",
       "</div>"
      ],
      "text/plain": [
       "             Observed  Expected\n",
       "Consumer        26518     25000\n",
       "Corporate       15429     25000\n",
       "Home Office      9343     25000"
      ]
     },
     "execution_count": 6,
     "metadata": {},
     "output_type": "execute_result"
    }
   ],
   "source": [
    "#Renaming the columns.\n",
    "chi_square_df.columns = [\"Observed\", \"Expected\"]\n",
    "chi_square_df"
   ]
  },
  {
   "cell_type": "code",
   "execution_count": 7,
   "metadata": {},
   "outputs": [],
   "source": [
    "# The degree of freedom is 3-1 = 2\n",
    "# With a p-value of 0.05, the confidence level is 1.00-0.05 = 0.95.\n",
    "critical_value = st.chi2.ppf(q = 0.95, df = 2)"
   ]
  },
  {
   "cell_type": "code",
   "execution_count": 8,
   "metadata": {},
   "outputs": [
    {
     "data": {
      "text/plain": [
       "5.991464547107979"
      ]
     },
     "execution_count": 8,
     "metadata": {},
     "output_type": "execute_result"
    }
   ],
   "source": [
    "# Displaying the critical value.\n",
    "critical_value"
   ]
  },
  {
   "cell_type": "code",
   "execution_count": 9,
   "metadata": {},
   "outputs": [
    {
     "data": {
      "text/plain": [
       "Power_divergenceResult(statistic=13562.00056, pvalue=0.0)"
      ]
     },
     "execution_count": 9,
     "metadata": {},
     "output_type": "execute_result"
    }
   ],
   "source": [
    "# Run the chi square test with stats.chisquare()\n",
    "st.chisquare(chi_square_df['Observed'], chi_square_df['Expected'])"
   ]
  },
  {
   "cell_type": "markdown",
   "metadata": {},
   "source": [
    "### Conclusion : Since the chi-square value at a confidence level of 95% exceeds the critical value of 5.99, we conclude that the differences seen in the number of orders per segment are statistically significant."
   ]
  },
  {
   "cell_type": "markdown",
   "metadata": {},
   "source": [
    "# 2. Correlation between Profits and other factors such as Discounts, Sales, Quantity and Shipping cost across Regions"
   ]
  },
  {
   "cell_type": "code",
   "execution_count": 10,
   "metadata": {},
   "outputs": [],
   "source": [
    "#Extracting the series of Discounts on orders and the corresponding Profit/Loss.\n",
    "discounts = sstore_df['Discount']\n",
    "profits = sstore_df['Profit']\n",
    "\n",
    "def clean(serie):\n",
    "    output = serie[(np.isnan(serie) == False) & (np.isinf(serie) == False)]\n",
    "    return output\n",
    "\n",
    "discount = clean(discounts)\n",
    "profit = clean(profits)"
   ]
  },
  {
   "cell_type": "code",
   "execution_count": 11,
   "metadata": {},
   "outputs": [
    {
     "name": "stdout",
     "output_type": "stream",
     "text": [
      "The correlation between the factors, discounts and profits is -0.32\n"
     ]
    },
    {
     "data": {
      "image/png": "[encoded data removed]",
      "text/plain": [
       "<Figure size 432x288 with 1 Axes>"
      ]
     },
     "metadata": {
      "needs_background": "light"
     },
     "output_type": "display_data"
    }
   ],
   "source": [
    "#Calculation of correlation between discounts and profits.\n",
    "from scipy.stats import linregress\n",
    "correlation = st.pearsonr(discount,profit) \n",
    "plt.scatter(discounts,profits)\n",
    "plt.title('Scatter plot showing correlation and regression between Discounts and Profits')\n",
    "plt.xlabel('Discounts')\n",
    "plt.ylabel('Profits')\n",
    "(slope, intercept, rvalue, pvalue, stderr) = linregress(discounts, profits)\n",
    "regress_values = discounts * slope + intercept\n",
    "line_eq = 'y = ' + str(round(slope,2)) + 'x + ' + str(round(intercept,2))\n",
    "plt.plot(discounts,regress_values,\"r-\")\n",
    "plt.annotate(line_eq,(0.5,10),fontsize=20,color='blue')\n",
    "print(f'The correlation between the factors, discounts and profits is {round(correlation[0],2)}')"
   ]
  },
  {
   "cell_type": "code",
   "execution_count": 12,
   "metadata": {},
   "outputs": [],
   "source": [
    "#Extracting the series of Sales and the corresponding Profit/Loss.\n",
    "sales = sstore_df['Sales']\n",
    "profits = sstore_df['Profit']"
   ]
  },
  {
   "cell_type": "code",
   "execution_count": 13,
   "metadata": {},
   "outputs": [
    {
     "name": "stdout",
     "output_type": "stream",
     "text": [
      "The correlation between the factors, sales and profits is 0.48\n"
     ]
    },
    {
     "data": {
      "image/png": "[encoded data removed]",
      "text/plain": [
       "<Figure size 432x288 with 1 Axes>"
      ]
     },
     "metadata": {
      "needs_background": "light"
     },
     "output_type": "display_data"
    }
   ],
   "source": [
    "#Calculation of correlation between sales and profits.\n",
    "from scipy.stats import linregress\n",
    "correlation = st.pearsonr(sales,profits)\n",
    "plt.scatter(sales,profits)\n",
    "plt.title('Scatter plot showing correlation and regression between Sales and Profits')\n",
    "plt.xlabel('Sales')\n",
    "plt.ylabel('Profits')\n",
    "(slope, intercept, rvalue, pvalue, stderr) = linregress(sales, profits)\n",
    "regress_values = sales * slope + intercept\n",
    "line_eq = 'y = ' + str(round(slope,2)) + 'x + ' + str(round(intercept,2))\n",
    "plt.plot(sales,regress_values,\"r-\")\n",
    "plt.annotate(line_eq,(0.5,10),fontsize=20,color='blue')\n",
    "print(f'The correlation between the factors, sales and profits is {round(correlation[0],2)}')"
   ]
  },
  {
   "cell_type": "code",
   "execution_count": 14,
   "metadata": {},
   "outputs": [],
   "source": [
    "#Extracting the series of Quantity and the corresponding Profit/Loss.\n",
    "quantity = sstore_df['Quantity']\n",
    "profits = sstore_df['Profit']"
   ]
  },
  {
   "cell_type": "code",
   "execution_count": 15,
   "metadata": {},
   "outputs": [
    {
     "name": "stdout",
     "output_type": "stream",
     "text": [
      "The correlation between the factors, quantity and profits is 0.1\n"
     ]
    },
    {
     "data": {
      "image/png": "[encoded data removed]",
      "text/plain": [
       "<Figure size 432x288 with 1 Axes>"
      ]
     },
     "metadata": {
      "needs_background": "light"
     },
     "output_type": "display_data"
    }
   ],
   "source": [
    "#Calculation of correlation between sales and profits.\n",
    "from scipy.stats import linregress\n",
    "correlation = st.pearsonr(quantity,profits)\n",
    "plt.scatter(quantity,profits)\n",
    "plt.title('Scatter plot showing correlation and regression between Quantity and Profits')\n",
    "plt.xlabel('Quantity')\n",
    "plt.ylabel('Profits')\n",
    "(slope, intercept, rvalue, pvalue, stderr) = linregress(quantity, profits)\n",
    "regress_values = quantity * slope + intercept\n",
    "line_eq = 'y = ' + str(round(slope,2)) + 'x + ' + str(round(intercept,2))\n",
    "plt.plot(quantity,regress_values,\"r-\")\n",
    "plt.annotate(line_eq,(0.5,10),fontsize=20,color='blue')\n",
    "print(f'The correlation between the factors, quantity and profits is {round(correlation[0],2)}')"
   ]
  },
  {
   "cell_type": "code",
   "execution_count": 16,
   "metadata": {},
   "outputs": [],
   "source": [
    "#Extracting the series of Shipping cost and the corresponding Profit/Loss.\n",
    "shipping = sstore_df['Shipping Cost']\n",
    "profits = sstore_df['Profit']"
   ]
  },
  {
   "cell_type": "code",
   "execution_count": 17,
   "metadata": {},
   "outputs": [
    {
     "name": "stdout",
     "output_type": "stream",
     "text": [
      "The correlation between the factors, shipping and profits is 0.35\n"
     ]
    },
    {
     "data": {
      "image/png": "[encoded data removed]",
      "text/plain": [
       "<Figure size 432x288 with 1 Axes>"
      ]
     },
     "metadata": {
      "needs_background": "light"
     },
     "output_type": "display_data"
    }
   ],
   "source": [
    "#Calculation of correlation between sales and profits.\n",
    "from scipy.stats import linregress\n",
    "correlation = st.pearsonr(shipping,profits)\n",
    "plt.scatter(shipping,profits)\n",
    "plt.title('Scatter plot showing correlation and regression between Quantity and Profits')\n",
    "plt.xlabel('Shipping Cost')\n",
    "plt.ylabel('Profits')\n",
    "(slope, intercept, rvalue, pvalue, stderr) = linregress(shipping, profits)\n",
    "regress_values = shipping * slope + intercept\n",
    "line_eq = 'y = ' + str(round(slope,2)) + 'x + ' + str(round(intercept,2))\n",
    "plt.plot(shipping,regress_values,\"r-\")\n",
    "plt.annotate(line_eq,(0.5,10),fontsize=20,color='blue')\n",
    "print(f'The correlation between the factors, shipping and profits is {round(correlation[0],2)}')"
   ]
  },
  {
   "cell_type": "markdown",
   "metadata": {},
   "source": [
    "### Conclusion: \n",
    "* The correlation coefficient between profits and discounts is -0.38.\n",
    "* The correlation coefficient between profits and sales is 0.48.\n",
    "* The correlation coefficient between profits and quantity is 0.09.\n",
    "* The correlation coefficient between profits and shipping cost is 0.34.\n",
    "    The correlation coefficient of -1 indicates perfect negative correlation, 1 indicates perfect positive correlation, and 0 indicates no correlation. The results indicate that there is no significant relation between profits and discounts, quantity and shipping cost. However, there is slight positive correlation between sales and the profits."
   ]
  },
  {
   "cell_type": "markdown",
   "metadata": {},
   "source": [
    "# 3. Yearly analysis of sales"
   ]
  },
  {
   "cell_type": "code",
   "execution_count": 18,
   "metadata": {},
   "outputs": [
    {
     "data": {
      "text/plain": [
       "Index(['Row ID', 'Order ID', 'Order Date', 'Ship Date', 'Ship Mode',\n",
       "       'Customer ID', 'Customer Name', 'Segment', 'City', 'State', 'Country',\n",
       "       'Postal Code', 'Market', 'Region', 'Product ID', 'Category',\n",
       "       'Sub-Category', 'Product Name', 'Sales', 'Quantity', 'Discount',\n",
       "       'Profit', 'Shipping Cost', 'Order Priority'],\n",
       "      dtype='object')"
      ]
     },
     "execution_count": 18,
     "metadata": {},
     "output_type": "execute_result"
    }
   ],
   "source": [
    "#Extracting the columns of the dataframe\n",
    "sstore_df.columns"
   ]
  },
  {
   "cell_type": "code",
   "execution_count": 19,
   "metadata": {},
   "outputs": [],
   "source": [
    "#Defining thwe specific columns for the dataframe for yearly analysis\n",
    "df = sstore_df[['Order Date','Sales','Quantity','Segment','Category','Profit','Country']].copy()"
   ]
  },
  {
   "cell_type": "code",
   "execution_count": 20,
   "metadata": {},
   "outputs": [
    {
     "data": {
      "text/html": [
       "<div>\n",
       "<style scoped>\n",
       "    .dataframe tbody tr th:only-of-type {\n",
       "        vertical-align: middle;\n",
       "    }\n",
       "\n",
       "    .dataframe tbody tr th {\n",
       "        vertical-align: top;\n",
       "    }\n",
       "\n",
       "    .dataframe thead th {\n",
       "        text-align: right;\n",
       "    }\n",
       "</style>\n",
       "<table border=\"1\" class=\"dataframe\">\n",
       "  <thead>\n",
       "    <tr style=\"text-align: right;\">\n",
       "      <th></th>\n",
       "      <th>Order Date</th>\n",
       "      <th>Sales</th>\n",
       "      <th>Quantity</th>\n",
       "      <th>Segment</th>\n",
       "      <th>Category</th>\n",
       "      <th>Profit</th>\n",
       "      <th>Country</th>\n",
       "      <th>Year</th>\n",
       "    </tr>\n",
       "  </thead>\n",
       "  <tbody>\n",
       "    <tr>\n",
       "      <th>0</th>\n",
       "      <td>2012-07-31</td>\n",
       "      <td>2309.650</td>\n",
       "      <td>7</td>\n",
       "      <td>Consumer</td>\n",
       "      <td>Technology</td>\n",
       "      <td>762.1845</td>\n",
       "      <td>United States</td>\n",
       "      <td>2012</td>\n",
       "    </tr>\n",
       "    <tr>\n",
       "      <th>1</th>\n",
       "      <td>2013-05-02</td>\n",
       "      <td>3709.395</td>\n",
       "      <td>9</td>\n",
       "      <td>Corporate</td>\n",
       "      <td>Furniture</td>\n",
       "      <td>-288.7650</td>\n",
       "      <td>Australia</td>\n",
       "      <td>2013</td>\n",
       "    </tr>\n",
       "    <tr>\n",
       "      <th>2</th>\n",
       "      <td>2013-10-17</td>\n",
       "      <td>5175.171</td>\n",
       "      <td>9</td>\n",
       "      <td>Consumer</td>\n",
       "      <td>Technology</td>\n",
       "      <td>919.9710</td>\n",
       "      <td>Australia</td>\n",
       "      <td>2013</td>\n",
       "    </tr>\n",
       "    <tr>\n",
       "      <th>3</th>\n",
       "      <td>2013-01-28</td>\n",
       "      <td>2892.510</td>\n",
       "      <td>5</td>\n",
       "      <td>Home Office</td>\n",
       "      <td>Technology</td>\n",
       "      <td>-96.5400</td>\n",
       "      <td>Germany</td>\n",
       "      <td>2013</td>\n",
       "    </tr>\n",
       "    <tr>\n",
       "      <th>4</th>\n",
       "      <td>2013-05-11</td>\n",
       "      <td>2832.960</td>\n",
       "      <td>8</td>\n",
       "      <td>Consumer</td>\n",
       "      <td>Technology</td>\n",
       "      <td>311.5200</td>\n",
       "      <td>Senegal</td>\n",
       "      <td>2013</td>\n",
       "    </tr>\n",
       "    <tr>\n",
       "      <th>...</th>\n",
       "      <td>...</td>\n",
       "      <td>...</td>\n",
       "      <td>...</td>\n",
       "      <td>...</td>\n",
       "      <td>...</td>\n",
       "      <td>...</td>\n",
       "      <td>...</td>\n",
       "      <td>...</td>\n",
       "    </tr>\n",
       "    <tr>\n",
       "      <th>51285</th>\n",
       "      <td>2014-06-19</td>\n",
       "      <td>65.100</td>\n",
       "      <td>5</td>\n",
       "      <td>Corporate</td>\n",
       "      <td>Office Supplies</td>\n",
       "      <td>4.5000</td>\n",
       "      <td>Japan</td>\n",
       "      <td>2014</td>\n",
       "    </tr>\n",
       "    <tr>\n",
       "      <th>51286</th>\n",
       "      <td>2014-06-20</td>\n",
       "      <td>0.444</td>\n",
       "      <td>1</td>\n",
       "      <td>Consumer</td>\n",
       "      <td>Office Supplies</td>\n",
       "      <td>-1.1100</td>\n",
       "      <td>United States</td>\n",
       "      <td>2014</td>\n",
       "    </tr>\n",
       "    <tr>\n",
       "      <th>51287</th>\n",
       "      <td>2013-02-12</td>\n",
       "      <td>22.920</td>\n",
       "      <td>3</td>\n",
       "      <td>Home Office</td>\n",
       "      <td>Office Supplies</td>\n",
       "      <td>11.2308</td>\n",
       "      <td>United States</td>\n",
       "      <td>2013</td>\n",
       "    </tr>\n",
       "    <tr>\n",
       "      <th>51288</th>\n",
       "      <td>2012-02-18</td>\n",
       "      <td>13.440</td>\n",
       "      <td>2</td>\n",
       "      <td>Home Office</td>\n",
       "      <td>Office Supplies</td>\n",
       "      <td>2.4000</td>\n",
       "      <td>Brazil</td>\n",
       "      <td>2012</td>\n",
       "    </tr>\n",
       "    <tr>\n",
       "      <th>51289</th>\n",
       "      <td>2012-05-22</td>\n",
       "      <td>61.380</td>\n",
       "      <td>3</td>\n",
       "      <td>Consumer</td>\n",
       "      <td>Office Supplies</td>\n",
       "      <td>1.8000</td>\n",
       "      <td>Nicaragua</td>\n",
       "      <td>2012</td>\n",
       "    </tr>\n",
       "  </tbody>\n",
       "</table>\n",
       "<p>51290 rows × 8 columns</p>\n",
       "</div>"
      ],
      "text/plain": [
       "      Order Date     Sales  Quantity      Segment         Category    Profit  \\\n",
       "0     2012-07-31  2309.650         7     Consumer       Technology  762.1845   \n",
       "1     2013-05-02  3709.395         9    Corporate        Furniture -288.7650   \n",
       "2     2013-10-17  5175.171         9     Consumer       Technology  919.9710   \n",
       "3     2013-01-28  2892.510         5  Home Office       Technology  -96.5400   \n",
       "4     2013-05-11  2832.960         8     Consumer       Technology  311.5200   \n",
       "...          ...       ...       ...          ...              ...       ...   \n",
       "51285 2014-06-19    65.100         5    Corporate  Office Supplies    4.5000   \n",
       "51286 2014-06-20     0.444         1     Consumer  Office Supplies   -1.1100   \n",
       "51287 2013-02-12    22.920         3  Home Office  Office Supplies   11.2308   \n",
       "51288 2012-02-18    13.440         2  Home Office  Office Supplies    2.4000   \n",
       "51289 2012-05-22    61.380         3     Consumer  Office Supplies    1.8000   \n",
       "\n",
       "             Country  Year  \n",
       "0      United States  2012  \n",
       "1          Australia  2013  \n",
       "2          Australia  2013  \n",
       "3            Germany  2013  \n",
       "4            Senegal  2013  \n",
       "...              ...   ...  \n",
       "51285          Japan  2014  \n",
       "51286  United States  2014  \n",
       "51287  United States  2013  \n",
       "51288         Brazil  2012  \n",
       "51289      Nicaragua  2012  \n",
       "\n",
       "[51290 rows x 8 columns]"
      ]
     },
     "execution_count": 20,
     "metadata": {},
     "output_type": "execute_result"
    }
   ],
   "source": [
    "#Formatting the date for the column, Order Date\n",
    "df['Order Date'] = pd.to_datetime(df['Order Date'])\n",
    "df['Year']= df['Order Date'].dt.year\n",
    "df"
   ]
  },
  {
   "cell_type": "code",
   "execution_count": 50,
   "metadata": {},
   "outputs": [
    {
     "data": {
      "text/html": [
       "<div>\n",
       "<style scoped>\n",
       "    .dataframe tbody tr th:only-of-type {\n",
       "        vertical-align: middle;\n",
       "    }\n",
       "\n",
       "    .dataframe tbody tr th {\n",
       "        vertical-align: top;\n",
       "    }\n",
       "\n",
       "    .dataframe thead th {\n",
       "        text-align: right;\n",
       "    }\n",
       "</style>\n",
       "<table border=\"1\" class=\"dataframe\">\n",
       "  <thead>\n",
       "    <tr style=\"text-align: right;\">\n",
       "      <th></th>\n",
       "      <th>Sales</th>\n",
       "      <th>Quantity</th>\n",
       "      <th>Profit</th>\n",
       "    </tr>\n",
       "    <tr>\n",
       "      <th>Year</th>\n",
       "      <th></th>\n",
       "      <th></th>\n",
       "      <th></th>\n",
       "    </tr>\n",
       "  </thead>\n",
       "  <tbody>\n",
       "    <tr>\n",
       "      <th>2011</th>\n",
       "      <td>2.259451e+06</td>\n",
       "      <td>31443</td>\n",
       "      <td>248940.81154</td>\n",
       "    </tr>\n",
       "    <tr>\n",
       "      <th>2012</th>\n",
       "      <td>2.677439e+06</td>\n",
       "      <td>38111</td>\n",
       "      <td>307415.27910</td>\n",
       "    </tr>\n",
       "    <tr>\n",
       "      <th>2013</th>\n",
       "      <td>3.405746e+06</td>\n",
       "      <td>48136</td>\n",
       "      <td>406935.23018</td>\n",
       "    </tr>\n",
       "    <tr>\n",
       "      <th>2014</th>\n",
       "      <td>4.299866e+06</td>\n",
       "      <td>60622</td>\n",
       "      <td>504165.97046</td>\n",
       "    </tr>\n",
       "  </tbody>\n",
       "</table>\n",
       "</div>"
      ],
      "text/plain": [
       "             Sales  Quantity        Profit\n",
       "Year                                      \n",
       "2011  2.259451e+06     31443  248940.81154\n",
       "2012  2.677439e+06     38111  307415.27910\n",
       "2013  3.405746e+06     48136  406935.23018\n",
       "2014  4.299866e+06     60622  504165.97046"
      ]
     },
     "execution_count": 50,
     "metadata": {},
     "output_type": "execute_result"
    }
   ],
   "source": [
    "#Creating dataframe with the grouped year data\n",
    "group_year = df.groupby('Year').sum().iloc[0:4]\n",
    "group_year"
   ]
  },
  {
   "cell_type": "code",
   "execution_count": 51,
   "metadata": {},
   "outputs": [],
   "source": [
    "#Calculating percentage increase of sales and profit from 2011 to 2014\n",
    "percent_sales = (group_year.iloc[3,0]-group_year.iloc[0,0])/group_year.iloc[0,0] *100\n",
    "percent_sales_float = \"{:.2f}\".format(percent_sales)\n",
    "percent_profit = (group_year.iloc[3,2]-group_year.iloc[0,2])/group_year.iloc[0,2] *100\n",
    "percent_profit_float = \"{:.2f}\".format(percent_profit)"
   ]
  },
  {
   "cell_type": "code",
   "execution_count": 52,
   "metadata": {},
   "outputs": [
    {
     "name": "stdout",
     "output_type": "stream",
     "text": [
      "Percentage increase in Sales from 2011 to 2014 is 90.31%\n",
      "Percentage increase in Profit from 2011 to 2014 is 102.52%\n"
     ]
    }
   ],
   "source": [
    "print(f'Percentage increase in Sales from 2011 to 2014 is {percent_sales_float}%')\n",
    "print(f'Percentage increase in Profit from 2011 to 2014 is {percent_profit_float}%')"
   ]
  },
  {
   "cell_type": "code",
   "execution_count": 55,
   "metadata": {},
   "outputs": [
    {
     "data": {
      "text/plain": [
       "(array([0, 1, 2, 3]), <a list of 4 Text major ticklabel objects>)"
      ]
     },
     "execution_count": 55,
     "metadata": {},
     "output_type": "execute_result"
    },
    {
     "data": {
      "image/png": "[encoded data removed]",
      "text/plain": [
       "<Figure size 1080x360 with 1 Axes>"
      ]
     },
     "metadata": {
      "needs_background": "light"
     },
     "output_type": "display_data"
    }
   ],
   "source": [
    "by_year = group_year.plot(kind='bar', width=.7, align = 'center', figsize = (15,5))\n",
    "by_year.set_xlabel(\"Year\", size = 14)\n",
    "by_year.set_ylabel(\"Total Sales\", size = 14)\n",
    "plt.xticks(rotation=45)"
   ]
  },
  {
   "cell_type": "markdown",
   "metadata": {},
   "source": [
    "### Conclusion: The sales revenue surpassed $4million in 2014, a 90.31% increase from 2011. The percentage increase in Profit since 2011 to 2014 is 102.52%."
   ]
  },
  {
   "cell_type": "markdown",
   "metadata": {},
   "source": [
    "# 4. Analysis of Sales per country, top 5 countries with largest demand and sales volume summary"
   ]
  },
  {
   "cell_type": "code",
   "execution_count": 27,
   "metadata": {},
   "outputs": [
    {
     "data": {
      "text/plain": [
       "Index(['Row ID', 'Order ID', 'Order Date', 'Ship Date', 'Ship Mode',\n",
       "       'Customer ID', 'Customer Name', 'Segment', 'City', 'State', 'Country',\n",
       "       'Postal Code', 'Market', 'Region', 'Product ID', 'Category',\n",
       "       'Sub-Category', 'Product Name', 'Sales', 'Quantity', 'Discount',\n",
       "       'Profit', 'Shipping Cost', 'Order Priority'],\n",
       "      dtype='object')"
      ]
     },
     "execution_count": 27,
     "metadata": {},
     "output_type": "execute_result"
    }
   ],
   "source": [
    "sstore_df.columns"
   ]
  },
  {
   "cell_type": "code",
   "execution_count": 28,
   "metadata": {},
   "outputs": [
    {
     "data": {
      "text/html": [
       "<div>\n",
       "<style scoped>\n",
       "    .dataframe tbody tr th:only-of-type {\n",
       "        vertical-align: middle;\n",
       "    }\n",
       "\n",
       "    .dataframe tbody tr th {\n",
       "        vertical-align: top;\n",
       "    }\n",
       "\n",
       "    .dataframe thead th {\n",
       "        text-align: right;\n",
       "    }\n",
       "</style>\n",
       "<table border=\"1\" class=\"dataframe\">\n",
       "  <thead>\n",
       "    <tr style=\"text-align: right;\">\n",
       "      <th></th>\n",
       "      <th>Sales</th>\n",
       "    </tr>\n",
       "    <tr>\n",
       "      <th>Country</th>\n",
       "      <th></th>\n",
       "    </tr>\n",
       "  </thead>\n",
       "  <tbody>\n",
       "    <tr>\n",
       "      <th>United States</th>\n",
       "      <td>2.297201e+06</td>\n",
       "    </tr>\n",
       "    <tr>\n",
       "      <th>Australia</th>\n",
       "      <td>9.252359e+05</td>\n",
       "    </tr>\n",
       "    <tr>\n",
       "      <th>France</th>\n",
       "      <td>8.589311e+05</td>\n",
       "    </tr>\n",
       "    <tr>\n",
       "      <th>China</th>\n",
       "      <td>7.005620e+05</td>\n",
       "    </tr>\n",
       "    <tr>\n",
       "      <th>Germany</th>\n",
       "      <td>6.288400e+05</td>\n",
       "    </tr>\n",
       "    <tr>\n",
       "      <th>...</th>\n",
       "      <td>...</td>\n",
       "    </tr>\n",
       "    <tr>\n",
       "      <th>Tajikistan</th>\n",
       "      <td>2.427840e+02</td>\n",
       "    </tr>\n",
       "    <tr>\n",
       "      <th>Macedonia</th>\n",
       "      <td>2.096400e+02</td>\n",
       "    </tr>\n",
       "    <tr>\n",
       "      <th>Eritrea</th>\n",
       "      <td>1.877400e+02</td>\n",
       "    </tr>\n",
       "    <tr>\n",
       "      <th>Armenia</th>\n",
       "      <td>1.567500e+02</td>\n",
       "    </tr>\n",
       "    <tr>\n",
       "      <th>Equatorial Guinea</th>\n",
       "      <td>1.505100e+02</td>\n",
       "    </tr>\n",
       "  </tbody>\n",
       "</table>\n",
       "<p>147 rows × 1 columns</p>\n",
       "</div>"
      ],
      "text/plain": [
       "                          Sales\n",
       "Country                        \n",
       "United States      2.297201e+06\n",
       "Australia          9.252359e+05\n",
       "France             8.589311e+05\n",
       "China              7.005620e+05\n",
       "Germany            6.288400e+05\n",
       "...                         ...\n",
       "Tajikistan         2.427840e+02\n",
       "Macedonia          2.096400e+02\n",
       "Eritrea            1.877400e+02\n",
       "Armenia            1.567500e+02\n",
       "Equatorial Guinea  1.505100e+02\n",
       "\n",
       "[147 rows x 1 columns]"
      ]
     },
     "execution_count": 28,
     "metadata": {},
     "output_type": "execute_result"
    }
   ],
   "source": [
    "#Sales per country\n",
    "group_region = sstore_df.groupby(['Country'])\n",
    "sales_df = pd.DataFrame(group_region['Sales'].sum())\n",
    "sorted_df = sales_df.sort_values('Sales',ascending = False)\n",
    "sorted_df"
   ]
  },
  {
   "cell_type": "code",
   "execution_count": 29,
   "metadata": {},
   "outputs": [
    {
     "data": {
      "text/html": [
       "<div>\n",
       "<style scoped>\n",
       "    .dataframe tbody tr th:only-of-type {\n",
       "        vertical-align: middle;\n",
       "    }\n",
       "\n",
       "    .dataframe tbody tr th {\n",
       "        vertical-align: top;\n",
       "    }\n",
       "\n",
       "    .dataframe thead th {\n",
       "        text-align: right;\n",
       "    }\n",
       "</style>\n",
       "<table border=\"1\" class=\"dataframe\">\n",
       "  <thead>\n",
       "    <tr style=\"text-align: right;\">\n",
       "      <th></th>\n",
       "      <th>Country</th>\n",
       "      <th>Sales</th>\n",
       "    </tr>\n",
       "  </thead>\n",
       "  <tbody>\n",
       "    <tr>\n",
       "      <th>0</th>\n",
       "      <td>United States</td>\n",
       "      <td>2.297201e+06</td>\n",
       "    </tr>\n",
       "    <tr>\n",
       "      <th>1</th>\n",
       "      <td>Australia</td>\n",
       "      <td>9.252359e+05</td>\n",
       "    </tr>\n",
       "    <tr>\n",
       "      <th>2</th>\n",
       "      <td>France</td>\n",
       "      <td>8.589311e+05</td>\n",
       "    </tr>\n",
       "    <tr>\n",
       "      <th>3</th>\n",
       "      <td>China</td>\n",
       "      <td>7.005620e+05</td>\n",
       "    </tr>\n",
       "    <tr>\n",
       "      <th>4</th>\n",
       "      <td>Germany</td>\n",
       "      <td>6.288400e+05</td>\n",
       "    </tr>\n",
       "  </tbody>\n",
       "</table>\n",
       "</div>"
      ],
      "text/plain": [
       "         Country         Sales\n",
       "0  United States  2.297201e+06\n",
       "1      Australia  9.252359e+05\n",
       "2         France  8.589311e+05\n",
       "3          China  7.005620e+05\n",
       "4        Germany  6.288400e+05"
      ]
     },
     "execution_count": 29,
     "metadata": {},
     "output_type": "execute_result"
    }
   ],
   "source": [
    "#Filtering top 5 countries\n",
    "filtered_df = sorted_df.iloc[0:5,:]\n",
    "filtered_df.reset_index()"
   ]
  },
  {
   "cell_type": "code",
   "execution_count": 30,
   "metadata": {},
   "outputs": [
    {
     "data": {
      "text/plain": [
       "Text(0, 0.5, 'Total Sales')"
      ]
     },
     "execution_count": 30,
     "metadata": {},
     "output_type": "execute_result"
    },
    {
     "data": {
      "image/png": "[encoded data removed]",
      "text/plain": [
       "<Figure size 1080x360 with 1 Axes>"
      ]
     },
     "metadata": {
      "needs_background": "light"
     },
     "output_type": "display_data"
    }
   ],
   "source": [
    "#Bar plot for top 5 sales vs. Country\n",
    "sales_chart = filtered_df.plot(kind='bar', color = 'lightgreen', align = 'center', figsize = (15,5) )\n",
    "sales_chart.set_xlabel(\"Country\")\n",
    "sales_chart.set_ylabel(\"Total Sales\")"
   ]
  },
  {
   "cell_type": "code",
   "execution_count": 31,
   "metadata": {},
   "outputs": [
    {
     "data": {
      "text/html": [
       "<div>\n",
       "<style scoped>\n",
       "    .dataframe tbody tr th:only-of-type {\n",
       "        vertical-align: middle;\n",
       "    }\n",
       "\n",
       "    .dataframe tbody tr th {\n",
       "        vertical-align: top;\n",
       "    }\n",
       "\n",
       "    .dataframe thead th {\n",
       "        text-align: right;\n",
       "    }\n",
       "</style>\n",
       "<table border=\"1\" class=\"dataframe\">\n",
       "  <thead>\n",
       "    <tr style=\"text-align: right;\">\n",
       "      <th></th>\n",
       "      <th>Row ID</th>\n",
       "      <th>Order ID</th>\n",
       "      <th>Order Date</th>\n",
       "      <th>Ship Date</th>\n",
       "      <th>Ship Mode</th>\n",
       "      <th>Customer ID</th>\n",
       "      <th>Customer Name</th>\n",
       "      <th>Segment</th>\n",
       "      <th>City</th>\n",
       "      <th>State</th>\n",
       "      <th>...</th>\n",
       "      <th>Category</th>\n",
       "      <th>Sub-Category</th>\n",
       "      <th>Product Name</th>\n",
       "      <th>Sales</th>\n",
       "      <th>Quantity</th>\n",
       "      <th>Discount</th>\n",
       "      <th>Profit</th>\n",
       "      <th>Shipping Cost</th>\n",
       "      <th>Order Priority</th>\n",
       "      <th>Sales Volume Summary</th>\n",
       "    </tr>\n",
       "  </thead>\n",
       "  <tbody>\n",
       "    <tr>\n",
       "      <th>0</th>\n",
       "      <td>32298</td>\n",
       "      <td>CA-2012-124891</td>\n",
       "      <td>31-07-2012</td>\n",
       "      <td>31-07-2012</td>\n",
       "      <td>Same Day</td>\n",
       "      <td>RH-19495</td>\n",
       "      <td>Rick Hansen</td>\n",
       "      <td>Consumer</td>\n",
       "      <td>New York City</td>\n",
       "      <td>New York</td>\n",
       "      <td>...</td>\n",
       "      <td>Technology</td>\n",
       "      <td>Accessories</td>\n",
       "      <td>Plantronics CS510 - Over-the-Head monaural Wir...</td>\n",
       "      <td>2309.650</td>\n",
       "      <td>7</td>\n",
       "      <td>0.0</td>\n",
       "      <td>762.1845</td>\n",
       "      <td>933.57</td>\n",
       "      <td>Critical</td>\n",
       "      <td>Medium</td>\n",
       "    </tr>\n",
       "    <tr>\n",
       "      <th>1</th>\n",
       "      <td>26341</td>\n",
       "      <td>IN-2013-77878</td>\n",
       "      <td>5/2/2013</td>\n",
       "      <td>7/2/2013</td>\n",
       "      <td>Second Class</td>\n",
       "      <td>JR-16210</td>\n",
       "      <td>Justin Ritter</td>\n",
       "      <td>Corporate</td>\n",
       "      <td>Wollongong</td>\n",
       "      <td>New South Wales</td>\n",
       "      <td>...</td>\n",
       "      <td>Furniture</td>\n",
       "      <td>Chairs</td>\n",
       "      <td>Novimex Executive Leather Armchair, Black</td>\n",
       "      <td>3709.395</td>\n",
       "      <td>9</td>\n",
       "      <td>0.1</td>\n",
       "      <td>-288.7650</td>\n",
       "      <td>923.63</td>\n",
       "      <td>Critical</td>\n",
       "      <td>Medium</td>\n",
       "    </tr>\n",
       "    <tr>\n",
       "      <th>2</th>\n",
       "      <td>25330</td>\n",
       "      <td>IN-2013-71249</td>\n",
       "      <td>17-10-2013</td>\n",
       "      <td>18-10-2013</td>\n",
       "      <td>First Class</td>\n",
       "      <td>CR-12730</td>\n",
       "      <td>Craig Reiter</td>\n",
       "      <td>Consumer</td>\n",
       "      <td>Brisbane</td>\n",
       "      <td>Queensland</td>\n",
       "      <td>...</td>\n",
       "      <td>Technology</td>\n",
       "      <td>Phones</td>\n",
       "      <td>Nokia Smart Phone, with Caller ID</td>\n",
       "      <td>5175.171</td>\n",
       "      <td>9</td>\n",
       "      <td>0.1</td>\n",
       "      <td>919.9710</td>\n",
       "      <td>915.49</td>\n",
       "      <td>Medium</td>\n",
       "      <td>Medium</td>\n",
       "    </tr>\n",
       "    <tr>\n",
       "      <th>3</th>\n",
       "      <td>13524</td>\n",
       "      <td>ES-2013-1579342</td>\n",
       "      <td>28-01-2013</td>\n",
       "      <td>30-01-2013</td>\n",
       "      <td>First Class</td>\n",
       "      <td>KM-16375</td>\n",
       "      <td>Katherine Murray</td>\n",
       "      <td>Home Office</td>\n",
       "      <td>Berlin</td>\n",
       "      <td>Berlin</td>\n",
       "      <td>...</td>\n",
       "      <td>Technology</td>\n",
       "      <td>Phones</td>\n",
       "      <td>Motorola Smart Phone, Cordless</td>\n",
       "      <td>2892.510</td>\n",
       "      <td>5</td>\n",
       "      <td>0.1</td>\n",
       "      <td>-96.5400</td>\n",
       "      <td>910.16</td>\n",
       "      <td>Medium</td>\n",
       "      <td>Low</td>\n",
       "    </tr>\n",
       "    <tr>\n",
       "      <th>4</th>\n",
       "      <td>47221</td>\n",
       "      <td>SG-2013-4320</td>\n",
       "      <td>5/11/2013</td>\n",
       "      <td>6/11/2013</td>\n",
       "      <td>Same Day</td>\n",
       "      <td>RH-9495</td>\n",
       "      <td>Rick Hansen</td>\n",
       "      <td>Consumer</td>\n",
       "      <td>Dakar</td>\n",
       "      <td>Dakar</td>\n",
       "      <td>...</td>\n",
       "      <td>Technology</td>\n",
       "      <td>Copiers</td>\n",
       "      <td>Sharp Wireless Fax, High-Speed</td>\n",
       "      <td>2832.960</td>\n",
       "      <td>8</td>\n",
       "      <td>0.0</td>\n",
       "      <td>311.5200</td>\n",
       "      <td>903.04</td>\n",
       "      <td>Critical</td>\n",
       "      <td>Medium</td>\n",
       "    </tr>\n",
       "    <tr>\n",
       "      <th>...</th>\n",
       "      <td>...</td>\n",
       "      <td>...</td>\n",
       "      <td>...</td>\n",
       "      <td>...</td>\n",
       "      <td>...</td>\n",
       "      <td>...</td>\n",
       "      <td>...</td>\n",
       "      <td>...</td>\n",
       "      <td>...</td>\n",
       "      <td>...</td>\n",
       "      <td>...</td>\n",
       "      <td>...</td>\n",
       "      <td>...</td>\n",
       "      <td>...</td>\n",
       "      <td>...</td>\n",
       "      <td>...</td>\n",
       "      <td>...</td>\n",
       "      <td>...</td>\n",
       "      <td>...</td>\n",
       "      <td>...</td>\n",
       "      <td>...</td>\n",
       "    </tr>\n",
       "    <tr>\n",
       "      <th>51285</th>\n",
       "      <td>29002</td>\n",
       "      <td>IN-2014-62366</td>\n",
       "      <td>19-06-2014</td>\n",
       "      <td>19-06-2014</td>\n",
       "      <td>Same Day</td>\n",
       "      <td>KE-16420</td>\n",
       "      <td>Katrina Edelman</td>\n",
       "      <td>Corporate</td>\n",
       "      <td>Kure</td>\n",
       "      <td>Hiroshima</td>\n",
       "      <td>...</td>\n",
       "      <td>Office Supplies</td>\n",
       "      <td>Fasteners</td>\n",
       "      <td>Advantus Thumb Tacks, 12 Pack</td>\n",
       "      <td>65.100</td>\n",
       "      <td>5</td>\n",
       "      <td>0.0</td>\n",
       "      <td>4.5000</td>\n",
       "      <td>0.01</td>\n",
       "      <td>Medium</td>\n",
       "      <td>Low</td>\n",
       "    </tr>\n",
       "    <tr>\n",
       "      <th>51286</th>\n",
       "      <td>35398</td>\n",
       "      <td>US-2014-102288</td>\n",
       "      <td>20-06-2014</td>\n",
       "      <td>24-06-2014</td>\n",
       "      <td>Standard Class</td>\n",
       "      <td>ZC-21910</td>\n",
       "      <td>Zuschuss Carroll</td>\n",
       "      <td>Consumer</td>\n",
       "      <td>Houston</td>\n",
       "      <td>Texas</td>\n",
       "      <td>...</td>\n",
       "      <td>Office Supplies</td>\n",
       "      <td>Appliances</td>\n",
       "      <td>Hoover Replacement Belt for Commercial Guardsm...</td>\n",
       "      <td>0.444</td>\n",
       "      <td>1</td>\n",
       "      <td>0.8</td>\n",
       "      <td>-1.1100</td>\n",
       "      <td>0.01</td>\n",
       "      <td>Medium</td>\n",
       "      <td>Low</td>\n",
       "    </tr>\n",
       "    <tr>\n",
       "      <th>51287</th>\n",
       "      <td>40470</td>\n",
       "      <td>US-2013-155768</td>\n",
       "      <td>2/12/2013</td>\n",
       "      <td>2/12/2013</td>\n",
       "      <td>Same Day</td>\n",
       "      <td>LB-16795</td>\n",
       "      <td>Laurel Beltran</td>\n",
       "      <td>Home Office</td>\n",
       "      <td>Oxnard</td>\n",
       "      <td>California</td>\n",
       "      <td>...</td>\n",
       "      <td>Office Supplies</td>\n",
       "      <td>Envelopes</td>\n",
       "      <td>#10- 4 1/8\" x 9 1/2\" Security-Tint Envelopes</td>\n",
       "      <td>22.920</td>\n",
       "      <td>3</td>\n",
       "      <td>0.0</td>\n",
       "      <td>11.2308</td>\n",
       "      <td>0.01</td>\n",
       "      <td>High</td>\n",
       "      <td>Low</td>\n",
       "    </tr>\n",
       "    <tr>\n",
       "      <th>51288</th>\n",
       "      <td>9596</td>\n",
       "      <td>MX-2012-140767</td>\n",
       "      <td>18-02-2012</td>\n",
       "      <td>22-02-2012</td>\n",
       "      <td>Standard Class</td>\n",
       "      <td>RB-19795</td>\n",
       "      <td>Ross Baird</td>\n",
       "      <td>Home Office</td>\n",
       "      <td>Valinhos</td>\n",
       "      <td>São Paulo</td>\n",
       "      <td>...</td>\n",
       "      <td>Office Supplies</td>\n",
       "      <td>Binders</td>\n",
       "      <td>Acco Index Tab, Economy</td>\n",
       "      <td>13.440</td>\n",
       "      <td>2</td>\n",
       "      <td>0.0</td>\n",
       "      <td>2.4000</td>\n",
       "      <td>0.00</td>\n",
       "      <td>Medium</td>\n",
       "      <td>Low</td>\n",
       "    </tr>\n",
       "    <tr>\n",
       "      <th>51289</th>\n",
       "      <td>6147</td>\n",
       "      <td>MX-2012-134460</td>\n",
       "      <td>22-05-2012</td>\n",
       "      <td>26-05-2012</td>\n",
       "      <td>Second Class</td>\n",
       "      <td>MC-18100</td>\n",
       "      <td>Mick Crebagga</td>\n",
       "      <td>Consumer</td>\n",
       "      <td>Tipitapa</td>\n",
       "      <td>Managua</td>\n",
       "      <td>...</td>\n",
       "      <td>Office Supplies</td>\n",
       "      <td>Paper</td>\n",
       "      <td>Eaton Computer Printout Paper, 8.5 x 11</td>\n",
       "      <td>61.380</td>\n",
       "      <td>3</td>\n",
       "      <td>0.0</td>\n",
       "      <td>1.8000</td>\n",
       "      <td>0.00</td>\n",
       "      <td>High</td>\n",
       "      <td>Low</td>\n",
       "    </tr>\n",
       "  </tbody>\n",
       "</table>\n",
       "<p>51290 rows × 25 columns</p>\n",
       "</div>"
      ],
      "text/plain": [
       "       Row ID         Order ID  Order Date   Ship Date       Ship Mode  \\\n",
       "0       32298   CA-2012-124891  31-07-2012  31-07-2012        Same Day   \n",
       "1       26341    IN-2013-77878    5/2/2013    7/2/2013    Second Class   \n",
       "2       25330    IN-2013-71249  17-10-2013  18-10-2013     First Class   \n",
       "3       13524  ES-2013-1579342  28-01-2013  30-01-2013     First Class   \n",
       "4       47221     SG-2013-4320   5/11/2013   6/11/2013        Same Day   \n",
       "...       ...              ...         ...         ...             ...   \n",
       "51285   29002    IN-2014-62366  19-06-2014  19-06-2014        Same Day   \n",
       "51286   35398   US-2014-102288  20-06-2014  24-06-2014  Standard Class   \n",
       "51287   40470   US-2013-155768   2/12/2013   2/12/2013        Same Day   \n",
       "51288    9596   MX-2012-140767  18-02-2012  22-02-2012  Standard Class   \n",
       "51289    6147   MX-2012-134460  22-05-2012  26-05-2012    Second Class   \n",
       "\n",
       "      Customer ID     Customer Name      Segment           City  \\\n",
       "0        RH-19495       Rick Hansen     Consumer  New York City   \n",
       "1        JR-16210     Justin Ritter    Corporate     Wollongong   \n",
       "2        CR-12730      Craig Reiter     Consumer       Brisbane   \n",
       "3        KM-16375  Katherine Murray  Home Office         Berlin   \n",
       "4         RH-9495       Rick Hansen     Consumer          Dakar   \n",
       "...           ...               ...          ...            ...   \n",
       "51285    KE-16420   Katrina Edelman    Corporate           Kure   \n",
       "51286    ZC-21910  Zuschuss Carroll     Consumer        Houston   \n",
       "51287    LB-16795    Laurel Beltran  Home Office         Oxnard   \n",
       "51288    RB-19795        Ross Baird  Home Office       Valinhos   \n",
       "51289    MC-18100     Mick Crebagga     Consumer       Tipitapa   \n",
       "\n",
       "                 State  ...         Category  Sub-Category  \\\n",
       "0             New York  ...       Technology   Accessories   \n",
       "1      New South Wales  ...        Furniture        Chairs   \n",
       "2           Queensland  ...       Technology        Phones   \n",
       "3               Berlin  ...       Technology        Phones   \n",
       "4                Dakar  ...       Technology       Copiers   \n",
       "...                ...  ...              ...           ...   \n",
       "51285        Hiroshima  ...  Office Supplies     Fasteners   \n",
       "51286            Texas  ...  Office Supplies    Appliances   \n",
       "51287       California  ...  Office Supplies     Envelopes   \n",
       "51288        São Paulo  ...  Office Supplies       Binders   \n",
       "51289          Managua  ...  Office Supplies         Paper   \n",
       "\n",
       "                                            Product Name     Sales Quantity  \\\n",
       "0      Plantronics CS510 - Over-the-Head monaural Wir...  2309.650        7   \n",
       "1              Novimex Executive Leather Armchair, Black  3709.395        9   \n",
       "2                      Nokia Smart Phone, with Caller ID  5175.171        9   \n",
       "3                         Motorola Smart Phone, Cordless  2892.510        5   \n",
       "4                         Sharp Wireless Fax, High-Speed  2832.960        8   \n",
       "...                                                  ...       ...      ...   \n",
       "51285                      Advantus Thumb Tacks, 12 Pack    65.100        5   \n",
       "51286  Hoover Replacement Belt for Commercial Guardsm...     0.444        1   \n",
       "51287       #10- 4 1/8\" x 9 1/2\" Security-Tint Envelopes    22.920        3   \n",
       "51288                            Acco Index Tab, Economy    13.440        2   \n",
       "51289            Eaton Computer Printout Paper, 8.5 x 11    61.380        3   \n",
       "\n",
       "      Discount    Profit Shipping Cost  Order Priority  Sales Volume Summary  \n",
       "0          0.0  762.1845        933.57        Critical                Medium  \n",
       "1          0.1 -288.7650        923.63        Critical                Medium  \n",
       "2          0.1  919.9710        915.49          Medium                Medium  \n",
       "3          0.1  -96.5400        910.16          Medium                   Low  \n",
       "4          0.0  311.5200        903.04        Critical                Medium  \n",
       "...        ...       ...           ...             ...                   ...  \n",
       "51285      0.0    4.5000          0.01          Medium                   Low  \n",
       "51286      0.8   -1.1100          0.01          Medium                   Low  \n",
       "51287      0.0   11.2308          0.01            High                   Low  \n",
       "51288      0.0    2.4000          0.00          Medium                   Low  \n",
       "51289      0.0    1.8000          0.00            High                   Low  \n",
       "\n",
       "[51290 rows x 25 columns]"
      ]
     },
     "execution_count": 31,
     "metadata": {},
     "output_type": "execute_result"
    }
   ],
   "source": [
    "## Binning data for analyzing volume of sales as low, medium and high\n",
    "\n",
    "bins = [0,5,10,15]\n",
    "labels = ['Low','Medium','High']\n",
    "sstore_df['Sales Volume Summary']=pd.cut(sstore_df['Quantity'], bins, labels=labels, include_lowest = True)\n",
    "sstore_df"
   ]
  },
  {
   "cell_type": "code",
   "execution_count": 67,
   "metadata": {},
   "outputs": [
    {
     "data": {
      "image/png": "[encoded data removed]",
      "text/plain": [
       "<Figure size 432x288 with 1 Axes>"
      ]
     },
     "metadata": {
      "needs_background": "light"
     },
     "output_type": "display_data"
    },
    {
     "data": {
      "text/plain": [
       "<Figure size 432x288 with 0 Axes>"
      ]
     },
     "metadata": {},
     "output_type": "display_data"
    }
   ],
   "source": [
    "#Sales volume summary and Segment and Category\n",
    "segment_group= sstore_df.groupby(['Segment'])\n",
    "total_volume = segment_group['Sales Volume Summary'].count()\n",
    "volume_chart = total_volume.plot(kind='bar', color = 'cyan')\n",
    "volume_chart.set_xlabel(\"Segment\")\n",
    "volume_chart.set_ylabel(\"Sales Volume Summary\")\n",
    "plt.show()\n",
    "plt.tight_layout()"
   ]
  },
  {
   "cell_type": "code",
   "execution_count": 65,
   "metadata": {},
   "outputs": [
    {
     "data": {
      "image/png": "[encoded data removed]",
      "text/plain": [
       "<Figure size 432x288 with 1 Axes>"
      ]
     },
     "metadata": {
      "needs_background": "light"
     },
     "output_type": "display_data"
    },
    {
     "data": {
      "text/plain": [
       "<Figure size 432x288 with 0 Axes>"
      ]
     },
     "metadata": {},
     "output_type": "display_data"
    }
   ],
   "source": [
    "category_group = sstore_df.groupby(['Category'])\n",
    "total_sales = category_group['Sales'].sum()\n",
    "sales_ch = total_sales.plot(kind='bar')\n",
    "sales_ch.set_xlabel(\"Category\")\n",
    "sales_ch.set_ylabel(\"Sales\")\n",
    "plt.show()\n",
    "plt.tight_layout()"
   ]
  },
  {
   "cell_type": "code",
   "execution_count": null,
   "metadata": {},
   "outputs": [],
   "source": []
  }
 ],
 "metadata": {
  "anaconda-cloud": {},
  "kernelspec": {
   "display_name": "Python [conda env:PythonData] *",
   "language": "python",
   "name": "conda-env-PythonData-py"
  },
  "language_info": {
   "codemirror_mode": {
    "name": "ipython",
    "version": 3
   },
   "file_extension": ".py",
   "mimetype": "text/x-python",
   "name": "python",
   "nbconvert_exporter": "python",
   "pygments_lexer": "ipython3",
   "version": "3.6.10"
  }
 },
 "nbformat": 4,
 "nbformat_minor": 4
}
